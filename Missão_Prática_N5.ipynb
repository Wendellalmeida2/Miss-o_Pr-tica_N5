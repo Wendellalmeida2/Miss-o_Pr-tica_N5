{
  "nbformat": 4,
  "nbformat_minor": 0,
  "metadata": {
    "colab": {
      "provenance": [],
      "authorship_tag": "ABX9TyNi8iaBLXK6LDOO766M4gd9",
      "include_colab_link": true
    },
    "kernelspec": {
      "name": "python3",
      "display_name": "Python 3"
    },
    "language_info": {
      "name": "python"
    }
  },
  "cells": [
    {
      "cell_type": "markdown",
      "metadata": {
        "id": "view-in-github",
        "colab_type": "text"
      },
      "source": [
        "<a href=\"https://colab.research.google.com/github/Wendellalmeida2/Miss-o_Pr-tica_N5/blob/main/Miss%C3%A3o_Pr%C3%A1tica_N5.ipynb\" target=\"_parent\"><img src=\"https://colab.research.google.com/assets/colab-badge.svg\" alt=\"Open In Colab\"/></a>"
      ]
    },
    {
      "cell_type": "markdown",
      "source": [
        "![image.png](data:image/png;base64,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)"
      ],
      "metadata": {
        "id": "VZbXrMcngGLX"
      }
    },
    {
      "cell_type": "markdown",
      "source": [
        "**Nome dos integrantes:**\n",
        "\n",
        "*   Wendel luiz almeida goncalvez\n",
        "\n",
        "\n",
        "**Campus: Estácio de sa**\n",
        "\n",
        "1.   Curso: Dev.Full Stack\n",
        "2.   Disciplina: Colocando Tudo em Ordem e Guardando Dev\n",
        "3.   Turma: 22.3\n",
        "4.   Grupo: Dev 28\n",
        "5.   Semestre: 1\n",
        "\n",
        "**Obetivos:**\n",
        "\n",
        "\n",
        "\n",
        "1.   Gerar dados de testes\n",
        "2.   Gravar e recuperar dados de arquivos textos\n",
        "3.   Manipular os dados para visualizá-los em um histograma\n",
        "4.   Manipular os dados para visualizá-los em uma nuvem de palavras"
      ],
      "metadata": {
        "id": "9UJs_x8kgf5a"
      }
    },
    {
      "cell_type": "code",
      "source": [
        "!pip install faker\n",
        "!pip install wordcloud\n",
        "!pip install num2words\n",
        "\n",
        "from faker import Faker\n",
        "import matplotlib.pyplot as plt\n",
        "from wordcloud import WordCloud\n",
        "from num2words import num2words"
      ],
      "metadata": {
        "id": "4e691BMngE_D"
      },
      "execution_count": null,
      "outputs": []
    },
    {
      "cell_type": "code",
      "source": [
        "gera = Faker()\n",
        "aluno = [[gera.name(),gera.random_int(0,10)] for x in range(10)]\n",
        "arquivo = open('arquivo.txt','w+')\n",
        "[arquivo.write(f\"{x}\\n\") for x in aluno]\n",
        "arquivo.close()\n",
        "print(aluno)"
      ],
      "metadata": {
        "id": "cgUNqkmTmgio"
      },
      "execution_count": null,
      "outputs": []
    },
    {
      "cell_type": "code",
      "source": [
        "lerArquivo = open('arquivo.txt')\n",
        "a = lerArquivo.readlines()\n",
        "dados = []\n",
        "for b in a:\n",
        "  for c in b:\n",
        "    if c.isdigit() == True:\n",
        "      dados.append(int(c))\n",
        "\n",
        "linha, barra, coluna = plt.hist(dados,facecolor='blue',alpha=0.75); \n",
        "\n",
        "plt.xlabel('Notas')\n",
        "plt.ylabel('Chance')\n",
        "plt.title('Histograma das notas')\n",
        "plt.grid(True)\n",
        "plt.show()"
      ],
      "metadata": {
        "id": "XHB3xdg2mgtT"
      },
      "execution_count": null,
      "outputs": []
    },
    {
      "cell_type": "code",
      "source": [
        "nuvem = []\n",
        "\n",
        "for numeros in dados:\n",
        "  numero = num2words(numeros, lang='pt_br')\n",
        "  nuvem.append(numero)\n",
        "\n",
        "nuvem = \",\".join(nuvem)\n",
        "nuvem_palavras = WordCloud(background_color = 'black', width=800, height=400).generate(nuvem)\n",
        "plt.imshow(nuvem_palavras, interpolation = 'bilinear')\n",
        "plt.axis(\"off\")\n",
        "nuvem_palavras.to_file(\"nuvemDePalavras.png\")"
      ],
      "metadata": {
        "id": "5B3QustFmm7q"
      },
      "execution_count": null,
      "outputs": []
    },
    {
      "cell_type": "markdown",
      "source": [
        "# **Análise e Conclusão:**\n",
        "\n",
        "**Qual a importância de manipular arquivos de texto?**\n",
        "\n",
        "Criar backups, banco de dados, manipular imagens, comprimir arquivos\n",
        "\n",
        "**Qual a importância de visualizar os dados em um histograma?**\n",
        "\n",
        "Uma ferramenta visual, facilita a estimação. Além disso, permite acompanhar grandes volumes de dados\n",
        "\n",
        "**O que significa a visualização por nuvem de palavras?**\n",
        "\n",
        "A nuvem de palavras é uma representação visual das palavras"
      ],
      "metadata": {
        "id": "_jAxPFcRmrNx"
      }
    }
  ]
}